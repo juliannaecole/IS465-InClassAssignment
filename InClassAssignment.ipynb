{
  "nbformat": 4,
  "nbformat_minor": 0,
  "metadata": {
    "colab": {
      "name": "InClassAssignment.ipynb",
      "provenance": [],
      "collapsed_sections": []
    },
    "kernelspec": {
      "name": "python3",
      "display_name": "Python 3"
    }
  },
  "cells": [
    {
      "cell_type": "code",
      "metadata": {
        "id": "uNAIUYWuaK-k",
        "colab_type": "code",
        "outputId": "2c7082ca-8e35-45fe-ce9b-39f5774811cc",
        "colab": {
          "base_uri": "https://localhost:8080/",
          "height": 88
        }
      },
      "source": [
        "# Rhea Pavithran, Julianna Cole, Keinath Amin\n",
        "# In Class Assignment\n",
        "\n",
        "test_list = ['apple', 'banana', 'avocado', 'peach', 'almond', 'raspberry', 'acorn', 'apricot','egypt', 'paris', 'nyc', 'elsalvador', 'italy', 'ecuador', 'germany', 'england'] \n",
        "\n",
        "# Checking the test list to check for words starting with A\n",
        "check = 'A'\n",
        "print(\"The original list : \" + str(test_list)) \n",
        "res = [idx for idx in test_list if idx[0].lower() == check.lower()] \n",
        "print(\"Words starting with A: \" + str(res))\n",
        "\n",
        "# Checking the test list to check for words starting with E\n",
        "check = 'E' \n",
        "res = [idx for idx in test_list if idx[0].lower() == check.lower()] \n",
        "print(\"Words starting with E: \" + str(res))"
      ],
      "execution_count": 0,
      "outputs": [
        {
          "output_type": "stream",
          "text": [
            "The original list : ['apple', 'banana', 'avocado', 'peach', 'almond', 'raspberry', 'acorn', 'apricot', 'egypt', 'paris', 'nyc', 'elsalvador', 'italy', 'ecuador', 'germany', 'england']\n",
            "Words starting with A: ['apple', 'avocado', 'almond', 'acorn', 'apricot']\n",
            "Words starting with E: ['egypt', 'elsalvador', 'ecuador', 'england']\n"
          ],
          "name": "stdout"
        }
      ]
    }
  ]
}